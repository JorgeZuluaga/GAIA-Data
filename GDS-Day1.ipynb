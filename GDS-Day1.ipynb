{
 "cells": [
  {
   "cell_type": "markdown",
   "id": "ba57b030",
   "metadata": {},
   "source": [
    "# GAIA Data School\n",
    "## Notes and experiments\n",
    "### Jorge I. Zuluaga"
   ]
  },
  {
   "cell_type": "markdown",
   "id": "fe086939",
   "metadata": {},
   "source": [
    "## Packages"
   ]
  },
  {
   "cell_type": "code",
   "execution_count": 1,
   "id": "2e531027",
   "metadata": {},
   "outputs": [],
   "source": [
    "import astropy as ap\n",
    "from astropy import units as u\n",
    "from astropy.coordinates import SkyCoord\n",
    "%matplotlib nbagg\n",
    "from matplotlib import pyplot as plt\n",
    "import IPython.display\n",
    "import numpy as np"
   ]
  },
  {
   "cell_type": "markdown",
   "id": "cc488d8a",
   "metadata": {},
   "source": [
    "## Virtual observatory, Enrique Solano"
   ]
  },
  {
   "cell_type": "markdown",
   "id": "ff76fa80",
   "metadata": {},
   "source": [
    "### Notes"
   ]
  },
  {
   "attachments": {},
   "cell_type": "markdown",
   "id": "457aa3ff",
   "metadata": {},
   "source": [
    "- Problem: interoperability.\n",
    "- Principles: Findable Accesible Interoperable Reusable, FAIR.\n",
    "- IVOA: International Virtual Observatory Alliance, gather all VO projects.\n",
    "- Levels:\n",
    "  - Development of standards: same access to data, same header for data\n",
    "  - Adopt standards in data centers: \n",
    "  - Create VO tools: applications that use the standards.\n",
    "  - VO Science: Science derived from usage of applicarion\n",
    "- Example:\n",
    "  - Aladdin (covered)\n",
    "  - TOPCAT (covered)\n",
    "  - VOSA (covered)\n",
    "  - Clusterix\n",
    "- Terms:\n",
    "  - ADL: SQL but for VO.\n",
    "  - Multi-$\\lambda$ astronomy"
   ]
  },
  {
   "cell_type": "markdown",
   "id": "7d8c4be8",
   "metadata": {},
   "source": [
    "## Aladdin by Miriam Cortés Contreras"
   ]
  },
  {
   "cell_type": "markdown",
   "id": "ce5aeefd",
   "metadata": {},
   "source": [
    "Tutorial: https://svo.cab.inta-csic.es/files/svo/Public/Meetings/schools/tutorial_Aladin_14oct2021.pdf\n",
    "Coordinates: https://svo.cab.inta-csic.es/files/svo/Public/Education/Tutorials/params_aladin_bd.txt\n",
    "Script: https://svo.cab.inta-csic.es/files/svo/Public/Education/Tutorials/script_aladin_bd2020.txt"
   ]
  },
  {
   "cell_type": "code",
   "execution_count": null,
   "id": "80a41156",
   "metadata": {},
   "outputs": [],
   "source": []
  }
 ],
 "metadata": {
  "kernelspec": {
   "display_name": "Python 3 (ipykernel)",
   "language": "python",
   "name": "python3"
  },
  "language_info": {
   "codemirror_mode": {
    "name": "ipython",
    "version": 3
   },
   "file_extension": ".py",
   "mimetype": "text/x-python",
   "name": "python",
   "nbconvert_exporter": "python",
   "pygments_lexer": "ipython3",
   "version": "3.9.7"
  }
 },
 "nbformat": 4,
 "nbformat_minor": 5
}
